{
 "cells": [
  {
   "cell_type": "markdown",
   "id": "c1ca41ac",
   "metadata": {},
   "source": [
    "save the google drive sheet as ods"
   ]
  },
  {
   "cell_type": "code",
   "execution_count": 106,
   "id": "abb1f5a4",
   "metadata": {},
   "outputs": [],
   "source": [
    "import pandas as pd\n",
    "from bs4 import BeautifulSoup\n",
    "import requests\n",
    "import os\n",
    "from tqdm import tqdm\n",
    "with open(\"[Nickel]DATABASE.html\") as fp:\n",
    "    soup = BeautifulSoup(fp, 'lxml') # lxml for html file"
   ]
  },
  {
   "cell_type": "code",
   "execution_count": 18,
   "id": "93e244ae",
   "metadata": {},
   "outputs": [
    {
     "name": "stdout",
     "output_type": "stream",
     "text": [
      "1644\n"
     ]
    }
   ],
   "source": [
    "body = soup.find('body')\n",
    "div = body.find('div')\n",
    "table = div.find('table')\n",
    "tbody = soup.find('tbody')\n",
    "\n",
    "print(len(tbody))"
   ]
  },
  {
   "cell_type": "code",
   "execution_count": 100,
   "id": "8c12549e",
   "metadata": {},
   "outputs": [
    {
     "data": {
      "text/html": [
       "<div>\n",
       "<style scoped>\n",
       "    .dataframe tbody tr th:only-of-type {\n",
       "        vertical-align: middle;\n",
       "    }\n",
       "\n",
       "    .dataframe tbody tr th {\n",
       "        vertical-align: top;\n",
       "    }\n",
       "\n",
       "    .dataframe thead th {\n",
       "        text-align: right;\n",
       "    }\n",
       "</style>\n",
       "<table border=\"1\" class=\"dataframe\">\n",
       "  <thead>\n",
       "    <tr style=\"text-align: right;\">\n",
       "      <th></th>\n",
       "      <th>no.</th>\n",
       "      <th>d</th>\n",
       "      <th>img</th>\n",
       "    </tr>\n",
       "  </thead>\n",
       "  <tbody>\n",
       "    <tr>\n",
       "      <th>0</th>\n",
       "      <td>0</td>\n",
       "      <td>jacs.7b06191</td>\n",
       "      <td>https://lh4.googleusercontent.com/nuHE2CkVSL-S...</td>\n",
       "    </tr>\n",
       "    <tr>\n",
       "      <th>1</th>\n",
       "      <td>1</td>\n",
       "      <td>jacs.7b06191</td>\n",
       "      <td>https://lh6.googleusercontent.com/dwnumRPGbav-...</td>\n",
       "    </tr>\n",
       "    <tr>\n",
       "      <th>2</th>\n",
       "      <td>2</td>\n",
       "      <td>acscatal.0c00246</td>\n",
       "      <td>https://lh4.googleusercontent.com/UHqsi5lKA89a...</td>\n",
       "    </tr>\n",
       "    <tr>\n",
       "      <th>3</th>\n",
       "      <td>3</td>\n",
       "      <td>acscatal.0c00246</td>\n",
       "      <td>https://lh5.googleusercontent.com/54orvjbgNt3P...</td>\n",
       "    </tr>\n",
       "    <tr>\n",
       "      <th>4</th>\n",
       "      <td>4</td>\n",
       "      <td>acscatal.0c00246</td>\n",
       "      <td>https://lh5.googleusercontent.com/h6StTZ6mTWoM...</td>\n",
       "    </tr>\n",
       "    <tr>\n",
       "      <th>...</th>\n",
       "      <td>...</td>\n",
       "      <td>...</td>\n",
       "      <td>...</td>\n",
       "    </tr>\n",
       "    <tr>\n",
       "      <th>632</th>\n",
       "      <td>632</td>\n",
       "      <td>acscatal.5b02204</td>\n",
       "      <td>https://lh4.googleusercontent.com/LBa15_BruKPk...</td>\n",
       "    </tr>\n",
       "    <tr>\n",
       "      <th>633</th>\n",
       "      <td>633</td>\n",
       "      <td>jacs.5b13211</td>\n",
       "      <td>https://lh3.googleusercontent.com/vhsx71yaeslM...</td>\n",
       "    </tr>\n",
       "    <tr>\n",
       "      <th>634</th>\n",
       "      <td>634</td>\n",
       "      <td>a-1467-2494</td>\n",
       "      <td>https://lh5.googleusercontent.com/gwvCr66Tnert...</td>\n",
       "    </tr>\n",
       "    <tr>\n",
       "      <th>635</th>\n",
       "      <td>635</td>\n",
       "      <td>a-1467-2494</td>\n",
       "      <td>https://lh5.googleusercontent.com/gwvCr66Tnert...</td>\n",
       "    </tr>\n",
       "    <tr>\n",
       "      <th>636</th>\n",
       "      <td>636</td>\n",
       "      <td>science.abo0039</td>\n",
       "      <td>https://lh5.googleusercontent.com/oj9O5EdIdyKR...</td>\n",
       "    </tr>\n",
       "  </tbody>\n",
       "</table>\n",
       "<p>637 rows × 3 columns</p>\n",
       "</div>"
      ],
      "text/plain": [
       "     no.                 d                                                img\n",
       "0      0      jacs.7b06191  https://lh4.googleusercontent.com/nuHE2CkVSL-S...\n",
       "1      1      jacs.7b06191  https://lh6.googleusercontent.com/dwnumRPGbav-...\n",
       "2      2  acscatal.0c00246  https://lh4.googleusercontent.com/UHqsi5lKA89a...\n",
       "3      3  acscatal.0c00246  https://lh5.googleusercontent.com/54orvjbgNt3P...\n",
       "4      4  acscatal.0c00246  https://lh5.googleusercontent.com/h6StTZ6mTWoM...\n",
       "..   ...               ...                                                ...\n",
       "632  632  acscatal.5b02204  https://lh4.googleusercontent.com/LBa15_BruKPk...\n",
       "633  633      jacs.5b13211  https://lh3.googleusercontent.com/vhsx71yaeslM...\n",
       "634  634       a-1467-2494  https://lh5.googleusercontent.com/gwvCr66Tnert...\n",
       "635  635       a-1467-2494  https://lh5.googleusercontent.com/gwvCr66Tnert...\n",
       "636  636   science.abo0039  https://lh5.googleusercontent.com/oj9O5EdIdyKR...\n",
       "\n",
       "[637 rows x 3 columns]"
      ]
     },
     "execution_count": 100,
     "metadata": {},
     "output_type": "execute_result"
    }
   ],
   "source": [
    "doi_list=[]\n",
    "img_link_list=[]\n",
    "for i,item in enumerate(tbody):\n",
    "    #print(i,'####')\n",
    "    if i<2 : continue\n",
    "\n",
    "    doi=item.select(\"td[class='s41 softmerge']\")\n",
    "    if len(doi)>0:\n",
    "        doi=doi[0]\n",
    "        doi=doi.select('div')[0]\n",
    "        doi=doi.text\n",
    "        doi_list.append(doi)\n",
    "        img=item.find('img')\n",
    "        img_link=img['src']\n",
    "        img_link_list.append(img_link)\n",
    "        #print('d',doi,'i',img_link)\n",
    "id_lst=range(len(doi_list))\n",
    "#dnl = doi and link\n",
    "dnl_df=pd.DataFrame({'no.':id_lst,'d':doi_list,'img':img_link_list})\n",
    "dnl_df.set_index('no.')\n",
    "dnl_df.to_csv('dnf.csv')\n",
    "dnl_df"
   ]
  },
  {
   "cell_type": "code",
   "execution_count": 108,
   "id": "8fb44d43",
   "metadata": {},
   "outputs": [
    {
     "name": "stdout",
     "output_type": "stream",
     "text": [
      "folder already exist\n"
     ]
    },
    {
     "name": "stderr",
     "output_type": "stream",
     "text": [
      "100%|████████████████████████████████████████████████████████████████████████████████| 637/637 [00:37<00:00, 17.17it/s]\n"
     ]
    }
   ],
   "source": [
    "try:\n",
    "    os.mkdir('figs')\n",
    "except:\n",
    "    print('folder already exist')\n",
    "\n",
    "for ir, row in tqdm(dnl_df.iterrows(), total=dnl_df.shape[0]):\n",
    "    image_url=row.img\n",
    "    index=str(row['no.'])\n",
    "    img_data = requests.get(image_url).content\n",
    "    with open('figs/'+index+'.png', 'wb') as handler:\n",
    "        handler.write(img_data)"
   ]
  },
  {
   "cell_type": "code",
   "execution_count": null,
   "id": "72e160d9",
   "metadata": {},
   "outputs": [],
   "source": []
  }
 ],
 "metadata": {
  "kernelspec": {
   "display_name": "Python 3 (ipykernel)",
   "language": "python",
   "name": "python3"
  },
  "language_info": {
   "codemirror_mode": {
    "name": "ipython",
    "version": 3
   },
   "file_extension": ".py",
   "mimetype": "text/x-python",
   "name": "python",
   "nbconvert_exporter": "python",
   "pygments_lexer": "ipython3",
   "version": "3.9.13"
  }
 },
 "nbformat": 4,
 "nbformat_minor": 5
}
